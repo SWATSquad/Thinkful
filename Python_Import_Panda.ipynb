{
  "nbformat": 4,
  "nbformat_minor": 0,
  "metadata": {
    "colab": {
      "provenance": [],
      "authorship_tag": "ABX9TyPyUnvvEVMxw3z+CGQ5crJP",
      "include_colab_link": true
    },
    "kernelspec": {
      "name": "python3",
      "display_name": "Python 3"
    },
    "language_info": {
      "name": "python"
    }
  },
  "cells": [
    {
      "cell_type": "markdown",
      "metadata": {
        "id": "view-in-github",
        "colab_type": "text"
      },
      "source": [
        "<a href=\"https://colab.research.google.com/github/SWATSquad/Thinkful/blob/main/Python_Import_Panda.ipynb\" target=\"_parent\"><img src=\"https://colab.research.google.com/assets/colab-badge.svg\" alt=\"Open In Colab\"/></a>"
      ]
    },
    {
      "cell_type": "code",
      "execution_count": null,
      "metadata": {
        "id": "qLZpdVFo6oiS"
      },
      "outputs": [],
      "source": []
    },
    {
      "cell_type": "code",
      "source": [
        "import sqlalchemy as sa\n",
        "\n",
        "#postgres logon info for Thinkful\n",
        "postgres_user = 'dabc_student'\n",
        "postgres_pw = '7*.8G9QH21'\n",
        "postgres_host = '142.93.121.174'\n",
        "postgres_port = '5432'\n",
        "postgres_db = 'dvdrentals'\n",
        "#add database\n",
        "#engine = sa.create_engine('postgresql://{}:{}@{}:{}/{}'.format(postgres_user, postgres_pw, postgres_host, postgres_port, postgres_db))\n",
        "#import database\n",
        "#df = pd.read_sql_query(sa.text('SELECT * FROM film'), con = engine.connect())\n",
        "#close connection\n",
        "#engine.dispose()\n",
        "\n",
        "\n"
      ],
      "metadata": {
        "id": "3BxKLwiPd9qZ"
      },
      "execution_count": null,
      "outputs": []
    },
    {
      "cell_type": "code",
      "source": [
        "import pandas as pd\n",
        "import numpy as np\n",
        "\n",
        "dvd_replacement_cost = np.array([20.99,12.99,18.99,26.99,22.99])\n",
        "dvd_manual_series = pd.Series(dvd_replacement_cost)\n",
        "\n",
        "\n",
        "pathway_csv = ('https://raw.githubusercontent.com/Thinkful-Ed/data-science-lectures/master/dvd_rentals.csv')\n",
        "df = pd.read_csv(pathway_csv)\n",
        "df_series = df['replacement_cost'].squeeze()"
      ],
      "metadata": {
        "id": "4XJvhu3d62k1"
      },
      "execution_count": null,
      "outputs": []
    },
    {
      "cell_type": "code",
      "source": [
        "salaries = [75000, 85000, 48000, 95000, 105000, 67000, 59000, 88000, 102500, 92500]\n",
        "emp_id = [21, 77, 89, 141, 210, 277, 309, 328, 583, 1271]\n",
        "emp_id_new = ['guz-ab1', 'smi-tr4', 'wie-al8', 'sur-qp2', 'pat-lg3', 'rob-sv5', 'dou-pp9', 'may-bp1', 'ken-mp2', 'hur-sk8']\n",
        "\n",
        "salaries_series = pd.Series(salaries)\n",
        "#salaries_series.index = emp_id\n",
        "salaries_series.index = emp_id_new\n",
        "\n",
        "#salaries_series[1271]\n",
        "#salaries_series['may-bp1']\n",
        "\n",
        "\n"
      ],
      "metadata": {
        "colab": {
          "base_uri": "https://localhost:8080/"
        },
        "id": "tArVvkT_7e9X",
        "outputId": "f0f35304-e237-42d4-aba0-73b3f7a87bd6"
      },
      "execution_count": null,
      "outputs": [
        {
          "output_type": "execute_result",
          "data": {
            "text/plain": [
              "88000"
            ]
          },
          "metadata": {},
          "execution_count": 38
        }
      ]
    },
    {
      "cell_type": "code",
      "source": [
        "emp_id = [1212, 9876, 3454, 9981, 4623, 2329, 4888, 5421, 7771, 8632]\n",
        "emp_id = pd.Series(emp_id)\n",
        "\n",
        "emp_id_list = emp_id.to_list()\n",
        "\n",
        "new_variable_name = emp_id.to_numpy()\n",
        "new_emp_id_string = emp_id.to_string()\n",
        "\n"
      ],
      "metadata": {
        "id": "EdOJp9QCGvFq"
      },
      "execution_count": null,
      "outputs": []
    },
    {
      "cell_type": "code",
      "source": [
        "emp_ssn = pd.Series([490728933, 220176588, 518638507, 427504604, 436426680, 518638507, 683207956, 679030475, 490728933, 490728933])\n",
        "emp_ssn.is_unique\n",
        "emp_ssn.value_counts()\n",
        "emp_ssn.unique()"
      ],
      "metadata": {
        "colab": {
          "base_uri": "https://localhost:8080/"
        },
        "id": "biWseR_jHgMf",
        "outputId": "ff825e15-1652-4797-d690-4f0c0eddde33"
      },
      "execution_count": null,
      "outputs": [
        {
          "output_type": "execute_result",
          "data": {
            "text/plain": [
              "array([490728933, 220176588, 518638507, 427504604, 436426680, 683207956,\n",
              "       679030475])"
            ]
          },
          "metadata": {},
          "execution_count": 62
        }
      ]
    }
  ]
}