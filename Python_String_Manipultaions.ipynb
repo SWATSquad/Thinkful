{
  "nbformat": 4,
  "nbformat_minor": 0,
  "metadata": {
    "colab": {
      "provenance": [],
      "authorship_tag": "ABX9TyPRDmBmWbON3AkBOBoefDbn",
      "include_colab_link": true
    },
    "kernelspec": {
      "name": "python3",
      "display_name": "Python 3"
    },
    "language_info": {
      "name": "python"
    }
  },
  "cells": [
    {
      "cell_type": "markdown",
      "metadata": {
        "id": "view-in-github",
        "colab_type": "text"
      },
      "source": [
        "<a href=\"https://colab.research.google.com/github/SWATSquad/Thinkful/blob/main/Python_String_Manipultaions.ipynb\" target=\"_parent\"><img src=\"https://colab.research.google.com/assets/colab-badge.svg\" alt=\"Open In Colab\"/></a>"
      ]
    },
    {
      "cell_type": "code",
      "source": [
        "!pip install pandas"
      ],
      "metadata": {
        "colab": {
          "base_uri": "https://localhost:8080/"
        },
        "id": "q8NVGA2nxcnV",
        "outputId": "fdd99e6a-ae7a-495d-8405-02cdeb10a992"
      },
      "execution_count": 2,
      "outputs": [
        {
          "output_type": "stream",
          "name": "stdout",
          "text": [
            "Requirement already satisfied: pandas in /usr/local/lib/python3.10/dist-packages (1.5.3)\n",
            "Requirement already satisfied: python-dateutil>=2.8.1 in /usr/local/lib/python3.10/dist-packages (from pandas) (2.8.2)\n",
            "Requirement already satisfied: pytz>=2020.1 in /usr/local/lib/python3.10/dist-packages (from pandas) (2023.3.post1)\n",
            "Requirement already satisfied: numpy>=1.21.0 in /usr/local/lib/python3.10/dist-packages (from pandas) (1.23.5)\n",
            "Requirement already satisfied: six>=1.5 in /usr/local/lib/python3.10/dist-packages (from python-dateutil>=2.8.1->pandas) (1.16.0)\n"
          ]
        }
      ]
    },
    {
      "cell_type": "code",
      "execution_count": 19,
      "metadata": {
        "colab": {
          "base_uri": "https://localhost:8080/"
        },
        "id": "KYEWYmVcw_hX",
        "outputId": "af51c3c5-c0da-4996-8840-e7e3c14ab63f"
      },
      "outputs": [
        {
          "output_type": "stream",
          "name": "stdout",
          "text": [
            "<class 'pandas.core.frame.DataFrame'>\n",
            "RangeIndex: 10 entries, 0 to 9\n",
            "Data columns (total 2 columns):\n",
            " #   Column        Non-Null Count  Dtype \n",
            "---  ------        --------------  ----- \n",
            " 0   brand_name    10 non-null     object\n",
            " 1   product_name  10 non-null     object\n",
            "dtypes: object(2)\n",
            "memory usage: 288.0+ bytes\n"
          ]
        }
      ],
      "source": [
        "import pandas as pd\n",
        "\n",
        "pathway = 'https://raw.githubusercontent.com/Thinkful-Ed/data-science-lectures/master/music_products.csv'\n",
        "\n",
        "df = pd.read_csv(pathway)\n",
        "\n",
        "df.info()\n"
      ]
    },
    {
      "cell_type": "code",
      "source": [
        "#df.brand_name.str.upper()\n",
        "#same as\n",
        "df_brand_name = df['brand_name'].str.upper()\n",
        "\n",
        "df_brand_name"
      ],
      "metadata": {
        "colab": {
          "base_uri": "https://localhost:8080/"
        },
        "id": "BD7NYGZQyF1f",
        "outputId": "d8ca17dd-d705-4187-dd58-b261caaee95a"
      },
      "execution_count": 20,
      "outputs": [
        {
          "output_type": "execute_result",
          "data": {
            "text/plain": [
              "0           APPLE\n",
              "1           APPLE\n",
              "2    BEATS BY DRE\n",
              "3            BOSE\n",
              "4           ASTRO\n",
              "5           APPLE\n",
              "6    BEATS BY DRE\n",
              "7            JLAB\n",
              "8            BOSE\n",
              "9           APPLE\n",
              "Name: brand_name, dtype: object"
            ]
          },
          "metadata": {},
          "execution_count": 20
        }
      ]
    },
    {
      "cell_type": "code",
      "source": [
        "#df.product_name.str.upper()\n",
        "#same as\n",
        "df_product_name = df['product_name'].str.upper()\n",
        "\n",
        "df_product_name"
      ],
      "metadata": {
        "colab": {
          "base_uri": "https://localhost:8080/"
        },
        "id": "AGzksQTQyHr-",
        "outputId": "7006a6f6-1ac1-4a3e-9ec5-ff64200a0097"
      },
      "execution_count": 21,
      "outputs": [
        {
          "output_type": "execute_result",
          "data": {
            "text/plain": [
              "0    WIRED EARPOD LIGHTNING\n",
              "1               AIRPODS PRO\n",
              "2               STUDIO BUDS\n",
              "3              QUIETCOMFORT\n",
              "4            GAMING HEADSET\n",
              "5                   AIRPODS\n",
              "6          FIT PRO WIRELESS\n",
              "7                GO AIR POP\n",
              "8           QUIETCOMFORT 45\n",
              "9               AIRPODS MAX\n",
              "Name: product_name, dtype: object"
            ]
          },
          "metadata": {},
          "execution_count": 21
        }
      ]
    },
    {
      "cell_type": "code",
      "source": [
        "df_brand_name = df['brand_name'].str.lower()\n",
        "df_product_name = df['product_name'].str.lower()\n",
        "\n",
        "df_brand_name\n"
      ],
      "metadata": {
        "colab": {
          "base_uri": "https://localhost:8080/"
        },
        "id": "tuE7jfZe4I93",
        "outputId": "f7af70f3-71db-419e-cc4d-13ad5e7ac00b"
      },
      "execution_count": 26,
      "outputs": [
        {
          "output_type": "execute_result",
          "data": {
            "text/plain": [
              "0           apple\n",
              "1           apple\n",
              "2    beats by dre\n",
              "3            bose\n",
              "4           astro\n",
              "5           apple\n",
              "6    beats by dre\n",
              "7            jlab\n",
              "8            bose\n",
              "9           apple\n",
              "Name: brand_name, dtype: object"
            ]
          },
          "metadata": {},
          "execution_count": 26
        }
      ]
    },
    {
      "cell_type": "code",
      "source": [
        "df_product_name"
      ],
      "metadata": {
        "colab": {
          "base_uri": "https://localhost:8080/"
        },
        "id": "ICTbY1n04nFr",
        "outputId": "222438e0-822b-4bd8-fb9f-5f5a347f6685"
      },
      "execution_count": 25,
      "outputs": [
        {
          "output_type": "execute_result",
          "data": {
            "text/plain": [
              "0    wired earpod lightning\n",
              "1               airpods pro\n",
              "2               studio buds\n",
              "3              quietcomfort\n",
              "4            gaming headset\n",
              "5                   airpods\n",
              "6          fit pro wireless\n",
              "7                go air pop\n",
              "8           quietcomfort 45\n",
              "9               airpods max\n",
              "Name: product_name, dtype: object"
            ]
          },
          "metadata": {},
          "execution_count": 25
        }
      ]
    },
    {
      "cell_type": "code",
      "source": [
        "df_product_name.str.contains('od')"
      ],
      "metadata": {
        "colab": {
          "base_uri": "https://localhost:8080/"
        },
        "id": "5ZhtdRyP4pcG",
        "outputId": "49c61a54-159d-4f87-f7b5-2de8cde4b4f5"
      },
      "execution_count": 33,
      "outputs": [
        {
          "output_type": "execute_result",
          "data": {
            "text/plain": [
              "0     True\n",
              "1     True\n",
              "2    False\n",
              "3    False\n",
              "4    False\n",
              "5     True\n",
              "6    False\n",
              "7    False\n",
              "8    False\n",
              "9     True\n",
              "Name: product_name, dtype: bool"
            ]
          },
          "metadata": {},
          "execution_count": 33
        }
      ]
    },
    {
      "cell_type": "code",
      "source": [
        "df_product_name.str.find('pod')"
      ],
      "metadata": {
        "colab": {
          "base_uri": "https://localhost:8080/"
        },
        "id": "7XwPbfNl5XUh",
        "outputId": "11ec10c0-a676-42e9-a13c-db59234b17bb"
      },
      "execution_count": 35,
      "outputs": [
        {
          "output_type": "execute_result",
          "data": {
            "text/plain": [
              "0    9\n",
              "1    3\n",
              "2   -1\n",
              "3   -1\n",
              "4   -1\n",
              "5    3\n",
              "6   -1\n",
              "7   -1\n",
              "8   -1\n",
              "9    3\n",
              "Name: product_name, dtype: int64"
            ]
          },
          "metadata": {},
          "execution_count": 35
        }
      ]
    },
    {
      "cell_type": "code",
      "source": [
        "df_product_name.str.findall('air')"
      ],
      "metadata": {
        "colab": {
          "base_uri": "https://localhost:8080/"
        },
        "id": "LU3lDG7k50mS",
        "outputId": "f95c600d-74a1-4d27-bfe1-53096ada31a8"
      },
      "execution_count": 37,
      "outputs": [
        {
          "output_type": "execute_result",
          "data": {
            "text/plain": [
              "0       []\n",
              "1    [air]\n",
              "2       []\n",
              "3       []\n",
              "4       []\n",
              "5    [air]\n",
              "6       []\n",
              "7    [air]\n",
              "8       []\n",
              "9    [air]\n",
              "Name: product_name, dtype: object"
            ]
          },
          "metadata": {},
          "execution_count": 37
        }
      ]
    },
    {
      "cell_type": "code",
      "source": [
        "df_pn_cat = df_product_name.str.cat(sep=',')\n",
        "df_pn_cat\n"
      ],
      "metadata": {
        "colab": {
          "base_uri": "https://localhost:8080/",
          "height": 35
        },
        "id": "_z-4Kb4e6EkX",
        "outputId": "bb54e40d-e478-4751-e86f-8f0cddc46571"
      },
      "execution_count": 40,
      "outputs": [
        {
          "output_type": "execute_result",
          "data": {
            "text/plain": [
              "'wired earpod lightning,airpods pro,studio buds,quietcomfort,gaming headset,airpods,fit pro wireless,go air pop,quietcomfort 45,airpods max'"
            ],
            "application/vnd.google.colaboratory.intrinsic+json": {
              "type": "string"
            }
          },
          "metadata": {},
          "execution_count": 40
        }
      ]
    },
    {
      "cell_type": "code",
      "source": [
        "df_pn_split = df_product_name.str.split()\n",
        "df_pn_split"
      ],
      "metadata": {
        "colab": {
          "base_uri": "https://localhost:8080/"
        },
        "id": "BoGWRsOv63Nz",
        "outputId": "b6649061-cde5-4829-dc81-e9f8306ba0b4"
      },
      "execution_count": 45,
      "outputs": [
        {
          "output_type": "execute_result",
          "data": {
            "text/plain": [
              "0    [wired, earpod, lightning]\n",
              "1                [airpods, pro]\n",
              "2                [studio, buds]\n",
              "3                [quietcomfort]\n",
              "4             [gaming, headset]\n",
              "5                     [airpods]\n",
              "6          [fit, pro, wireless]\n",
              "7                [go, air, pop]\n",
              "8            [quietcomfort, 45]\n",
              "9                [airpods, max]\n",
              "Name: product_name, dtype: object"
            ]
          },
          "metadata": {},
          "execution_count": 45
        }
      ]
    },
    {
      "cell_type": "code",
      "source": [],
      "metadata": {
        "id": "yWB9WoDi7qT5"
      },
      "execution_count": 47,
      "outputs": []
    }
  ]
}